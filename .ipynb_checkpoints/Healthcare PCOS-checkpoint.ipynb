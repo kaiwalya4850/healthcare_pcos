{
 "cells": [
  {
   "cell_type": "markdown",
   "id": "f220040e",
   "metadata": {},
   "source": [
    "# Importing Data"
   ]
  },
  {
   "cell_type": "code",
   "execution_count": null,
   "id": "97c3a77e",
   "metadata": {},
   "outputs": [],
   "source": [
    "import matplotlib.pyplot as plt\n",
    "import seaborn as sns\n",
    "import pandas as pd\n",
    "import numpy as np\n",
    "from sklearn.model_selection import train_test_split\n",
    "from sklearn.ensemble import RandomForestClassifier\n",
    "from sklearn.metrics import accuracy_score\n",
    "from sklearn.model_selection import cross_val_score\n",
    "from sklearn.model_selection import GridSearchCV\n",
    "from sklearn.metrics import confusion_matrix\n",
    "from sklearn.metrics import classification_report\n",
    "from sklearn.metrics import f1_score"
   ]
  },
  {
   "cell_type": "code",
   "execution_count": null,
   "id": "7d7eede5",
   "metadata": {},
   "outputs": [],
   "source": [
    "data = pd.read_csv(\"final_data.csv\")\n",
    "data = data.drop(columns=[\"Unnamed: 0\", \"Sl. No\",\"Patient File No.\"])\n",
    "data.head()"
   ]
  },
  {
   "cell_type": "code",
   "execution_count": null,
   "id": "c6864eed",
   "metadata": {},
   "outputs": [],
   "source": [
    "data.info()"
   ]
  },
  {
   "cell_type": "code",
   "execution_count": null,
   "id": "2b792041",
   "metadata": {},
   "outputs": [],
   "source": [
    "data.describe()"
   ]
  },
  {
   "cell_type": "code",
   "execution_count": null,
   "id": "1d529787",
   "metadata": {},
   "outputs": [],
   "source": [
    "data[\"PCOS (Y/N)\"].value_counts()"
   ]
  },
  {
   "cell_type": "markdown",
   "id": "8955919d",
   "metadata": {},
   "source": [
    "# Data Cleaning and EDA"
   ]
  },
  {
   "cell_type": "code",
   "execution_count": null,
   "id": "1f453936",
   "metadata": {},
   "outputs": [],
   "source": [
    "data[\"AMH(ng/mL)\"] = pd.to_numeric(data[\"AMH(ng/mL)\"], errors='coerce')\n",
    "data[\"II    beta-HCG(mIU/mL)\"] = pd.to_numeric(data[\"II    beta-HCG(mIU/mL)\"], errors='coerce')\n",
    "\n",
    "#Dealing with missing values. \n",
    "#Filling NA values with the median of that feature.\n",
    "\n",
    "data['Marraige Status (Yrs)'].fillna(data['Marraige Status (Yrs)'].median(),inplace=True)\n",
    "data['II    beta-HCG(mIU/mL)'].fillna(data['II    beta-HCG(mIU/mL)'].median(),inplace=True)\n",
    "data['AMH(ng/mL)'].fillna(data['AMH(ng/mL)'].median(),inplace=True)\n",
    "data['Fast food (Y/N)'].fillna(data['Fast food (Y/N)'].median(),inplace=True)\n",
    "\n",
    "#Clearing up the extra space in the column names (optional)\n",
    "\n",
    "data.columns = [col.strip() for col in data.columns]"
   ]
  },
  {
   "cell_type": "code",
   "execution_count": null,
   "id": "30151d7c",
   "metadata": {},
   "outputs": [],
   "source": [
    "#Examaning a correlation matrix of all the features \n",
    "\n",
    "corrmat = data.corr()\n",
    "plt.subplots(figsize=(18,18))\n",
    "sns.heatmap(corrmat,cmap=\"Pastel2\", square=True);"
   ]
  },
  {
   "cell_type": "code",
   "execution_count": null,
   "id": "760e05be",
   "metadata": {},
   "outputs": [],
   "source": [
    "#How all the features correlate with the PCOS \n",
    "\n",
    "corrmat[\"PCOS (Y/N)\"].sort_values(ascending=False)"
   ]
  },
  {
   "cell_type": "markdown",
   "id": "aaef8ae5",
   "metadata": {},
   "source": [
    "Now we have correlation values for all the features w.r.t PCOS[Y/N], we would now run Chi squared test and select 20 best features and proceed with training(this is performed after graphs)"
   ]
  },
  {
   "cell_type": "code",
   "execution_count": null,
   "id": "c9af7d3e",
   "metadata": {},
   "outputs": [],
   "source": [
    "# Length of menstrual phase in PCOS vs normal \n",
    "color = [\"red\", \"green\"]\n",
    "fig=sns.lmplot(data=data,x=\"Age (yrs)\",y=\"Cycle length(days)\", hue=\"PCOS (Y/N)\",palette=color)\n",
    "plt.show(fig)"
   ]
  },
  {
   "cell_type": "markdown",
   "id": "376d5719",
   "metadata": {},
   "source": [
    "The length of the menstrual phase is overall consistent over different ages for normal cases. Whereas in the case of PCOD the length increased with age."
   ]
  },
  {
   "cell_type": "code",
   "execution_count": null,
   "id": "addbb5e1",
   "metadata": {},
   "outputs": [],
   "source": [
    "# Pattern of weight gain (BMI) over years in PCOS and Normal. \n",
    "fig= sns.lmplot(data =data,x=\"Age (yrs)\",y=\"BMI\", hue=\"PCOS (Y/N)\", palette= color )\n",
    "plt.show(fig)"
   ]
  },
  {
   "cell_type": "markdown",
   "id": "46bcdee6",
   "metadata": {},
   "source": [
    "Body mass index (BMI) is showing consistency for normal cases. Whereas for PCOS the BMI increases with age.\n",
    "\n",
    "Patterns Of Irregularity In Mensuration: There is no clarity on what this feature and its values indicate but,\n",
    "\n",
    "Apparently in the feature \"Cycle(R/I)\" value:\n",
    "4 indicates irregular menstrual cycle and\n",
    "2 indicates a regular menstrual cycle"
   ]
  },
  {
   "cell_type": "code",
   "execution_count": null,
   "id": "2b1748b3",
   "metadata": {},
   "outputs": [],
   "source": [
    "# Distribution of follicles in both ovaries. \n",
    "sns.lmplot(data =data,x='Follicle No. (R)',y='Follicle No. (L)', hue=\"PCOS (Y/N)\",palette=color)\n",
    "plt.show()"
   ]
  },
  {
   "cell_type": "markdown",
   "id": "953f58d1",
   "metadata": {},
   "source": [
    "The mensural cyclThe distribution of follicles in both ovaries Left and Right are not equal for women with PCOS in comparison with the \"Normal\" patient. This is curious let's exlore it with boxen plot.e becomes more regular for normal cases with age. Whereas, for PCOS the irregularity increases with age."
   ]
  },
  {
   "cell_type": "code",
   "execution_count": null,
   "id": "41a1ecfb",
   "metadata": {},
   "outputs": [],
   "source": [
    "features = [\"Follicle No. (L)\",\"Follicle No. (R)\"]\n",
    "for i in features:\n",
    "    sns.swarmplot(x=data[\"PCOS (Y/N)\"], y=data[i], color=\"black\", alpha=0.5 )\n",
    "    sns.boxenplot(x=data[\"PCOS (Y/N)\"], y=data[i], palette=color)\n",
    "    plt.show()"
   ]
  },
  {
   "cell_type": "markdown",
   "id": "42baae19",
   "metadata": {},
   "source": [
    "The number of follicles in women with PCOS is higher, as expected. And are unequal as well."
   ]
  },
  {
   "cell_type": "markdown",
   "id": "fe21163c",
   "metadata": {},
   "source": [
    "We are performing some more EDA to see how other features relate with a woman having PCOS or not."
   ]
  },
  {
   "cell_type": "code",
   "execution_count": null,
   "id": "e4a70f6e",
   "metadata": {},
   "outputs": [],
   "source": [
    "features = [\"Age (yrs)\",\"Weight (Kg)\", \"BMI\", \"Hb(g/dl)\", \"Cycle length(days)\",\"Endometrium (mm)\" ]\n",
    "for i in features:\n",
    "    sns.swarmplot(x=data[\"PCOS (Y/N)\"], y=data[i], color=\"black\", alpha=0.5 )\n",
    "    sns.boxenplot(x=data[\"PCOS (Y/N)\"], y=data[i], palette=color)\n",
    "    plt.show()"
   ]
  },
  {
   "cell_type": "code",
   "execution_count": null,
   "id": "f5257c5c",
   "metadata": {},
   "outputs": [],
   "source": [
    "df1 = pd.DataFrame(data = np.random.random(size=(4,3)), columns = [\"BP _Diastolic (mmHg)\",\"AMH(ng/mL)\",\"BP _Systolic (mmHg)\"])\n",
    "\n",
    "sns.boxplot(x=\"variable\", y=\"value\", data=pd.melt(df1))\n",
    "\n",
    "plt.show()"
   ]
  },
  {
   "cell_type": "code",
   "execution_count": null,
   "id": "0ffc1783",
   "metadata": {},
   "outputs": [],
   "source": [
    "#Dropping the outliers. \n",
    "\n",
    "data = data[(data[\"BP _Diastolic (mmHg)\"]>20)]\n",
    "data = data[(data[\"AMH(ng/mL)\"]<40)]\n",
    "data = data[(data[\"BP _Systolic (mmHg)\"]>20)]\n",
    "data = data[(data[\"Endometrium (mm)\"]>0)]\n",
    "data = data[(data[\"Avg. F size (R) (mm)\"]>0)]\n",
    "data = data[(data[\"Avg. F size (R) (mm)\"]>0)]\n",
    "data = data[(data[\"RBS(mg/dl)\"]<200)]\n",
    "data = data[(data[\"PRG(ng/mL)\"]<20)]\n",
    "data = data[(data[\"Pulse rate(bpm)\"]>20)]\n",
    "data = data[(data[\"FSH(mIU/mL)\"]<4000)]\n",
    "data = data[(data[\"LH(mIU/mL)\"]<1500)]\n",
    "data = data[(data[\"Cycle(R/I)\"]<4.5)]\n",
    "\n",
    "data.shape"
   ]
  },
  {
   "cell_type": "code",
   "execution_count": null,
   "id": "0e946da9",
   "metadata": {},
   "outputs": [],
   "source": [
    "from sklearn.datasets import load_digits\n",
    "from sklearn.feature_selection import SelectKBest, chi2\n",
    "y = data['PCOS (Y/N)']\n",
    "X = data.drop('PCOS (Y/N)', axis = 1)\n",
    "\n",
    "X_new = SelectKBest(chi2, k=15).fit_transform(X, y)\n",
    "X_new[:5]\n",
    "\n"
   ]
  },
  {
   "cell_type": "code",
   "execution_count": null,
   "id": "74f804c4",
   "metadata": {},
   "outputs": [],
   "source": [
    "model= SelectKBest(chi2, k=20).fit(X,y)\n",
    "\n",
    "\n",
    "selected_feature_names=X.columns[model.get_support()]\n",
    "print(selected_feature_names)"
   ]
  },
  {
   "cell_type": "markdown",
   "id": "aa5e3d55",
   "metadata": {},
   "source": [
    "## Modeling "
   ]
  },
  {
   "cell_type": "code",
   "execution_count": null,
   "id": "847b59f2",
   "metadata": {},
   "outputs": [],
   "source": [
    "#Splitting the data into test and training sets\n",
    "\n",
    "X_train,X_test, y_train, y_test = train_test_split(X,y, test_size=0.3) "
   ]
  },
  {
   "cell_type": "markdown",
   "id": "2b5fb028",
   "metadata": {},
   "source": [
    "### Random Forest"
   ]
  },
  {
   "cell_type": "code",
   "execution_count": null,
   "id": "f0e36bee",
   "metadata": {},
   "outputs": [],
   "source": [
    "from sklearn.ensemble import RandomForestClassifier\n",
    "rfc = RandomForestClassifier()\n",
    "rfc.fit(X_train, y_train)\n",
    "\n",
    "#Making prediction and checking the test set\n",
    "\n",
    "pred_rfc = rfc.predict(X_test)\n",
    "accuracy = accuracy_score(y_test, pred_rfc)\n",
    "print(accuracy)\n",
    "\n",
    "#Testing the Model on test set\n",
    "\n",
    "predictions=rfc.predict(X_test)\n",
    "acccuracy_final = accuracy_score(y_test,predictions)\n",
    "\n",
    "\n",
    "classi_report = classification_report(y_test, predictions)\n",
    "print(classi_report)\n",
    "\n",
    "# F1 Score\n",
    "a = f1_score(y_test, predictions, zero_division=1)\n",
    "print(a)"
   ]
  },
  {
   "cell_type": "code",
   "execution_count": null,
   "id": "457bfb73",
   "metadata": {},
   "outputs": [],
   "source": [
    "from yellowbrick.classifier import ROCAUC\n",
    "visualizer = ROCAUC(rfc, classes=[0, 1])\n",
    "\n",
    "visualizer.fit(X_train, y_train)        # Fit the training data to the visualizer\n",
    "visualizer.score(X_test, y_test)        # Evaluate the model on the test data\n",
    "visualizer.show()                       # Finalize and show the figure"
   ]
  },
  {
   "cell_type": "code",
   "execution_count": null,
   "id": "b4e565fd",
   "metadata": {},
   "outputs": [],
   "source": [
    "from yellowbrick.classifier import ClassPredictionError\n",
    "# Instantiate the classification model and visualizer\n",
    "visualizer = ClassPredictionError(\n",
    "    rfc, classes=[0,1]\n",
    ")\n",
    "\n",
    "# Fit the training data to the visualizer\n",
    "visualizer.fit(X_train, y_train)\n",
    "\n",
    "# Evaluate the model on the test data\n",
    "visualizer.score(X_test, y_test)\n",
    "\n",
    "# Draw visualization\n",
    "visualizer.show()"
   ]
  },
  {
   "cell_type": "markdown",
   "id": "9641d401",
   "metadata": {},
   "source": [
    "### Logistic Regression"
   ]
  },
  {
   "cell_type": "code",
   "execution_count": null,
   "id": "8f5953c4",
   "metadata": {},
   "outputs": [],
   "source": [
    "from sklearn.linear_model import LogisticRegression\n",
    "clf = LogisticRegression(random_state=0).fit(X_train, y_train)\n",
    "\n",
    "\n",
    "#Making prediction and checking the test set\n",
    "\n",
    "pred_rfc = clf.predict(X_test)\n",
    "accuracy = accuracy_score(y_test, pred_rfc)\n",
    "print(accuracy)\n",
    "\n",
    "#Testing the Model on test set\n",
    "\n",
    "predictions=clf.predict(X_test)\n",
    "acccuracy_final = accuracy_score(y_test,predictions)\n",
    "\n",
    "\n",
    "classi_report = classification_report(y_test, predictions)\n",
    "print(classi_report)\n",
    "\n",
    "\n",
    "# F1 Score\n",
    "b = f1_score(y_test, predictions, zero_division=1)\n",
    "print(b)"
   ]
  },
  {
   "cell_type": "code",
   "execution_count": null,
   "id": "062574e6",
   "metadata": {},
   "outputs": [],
   "source": [
    "visualizer = ROCAUC(clf, classes=[0, 1])\n",
    "\n",
    "visualizer.fit(X_train, y_train)        # Fit the training data to the visualizer\n",
    "visualizer.score(X_test, y_test)        # Evaluate the model on the test data\n",
    "visualizer.show()                       # Finalize and show the figure"
   ]
  },
  {
   "cell_type": "code",
   "execution_count": null,
   "id": "865d214b",
   "metadata": {},
   "outputs": [],
   "source": [
    "visualizer = ClassPredictionError(\n",
    "    clf, classes=[0,1]\n",
    ")\n",
    "\n",
    "# Fit the training data to the visualizer\n",
    "visualizer.fit(X_train, y_train)\n",
    "\n",
    "# Evaluate the model on the test data\n",
    "visualizer.score(X_test, y_test)\n",
    "\n",
    "# Draw visualization\n",
    "visualizer.show()\n",
    "\n",
    "\n"
   ]
  },
  {
   "cell_type": "markdown",
   "id": "c48db50e",
   "metadata": {},
   "source": [
    "### MLP Classifier(Neural Networks)"
   ]
  },
  {
   "cell_type": "code",
   "execution_count": null,
   "id": "a80d2cf7",
   "metadata": {},
   "outputs": [],
   "source": [
    "from sklearn.neural_network import MLPClassifier\n",
    "from sklearn.datasets import make_classification\n",
    "\n",
    "clf = MLPClassifier(random_state=1, max_iter=300).fit(X_train, y_train)\n",
    "\n",
    "#Making prediction and checking the test set\n",
    "\n",
    "pred_rfc = clf.predict(X_test)\n",
    "accuracy = accuracy_score(y_test, pred_rfc)\n",
    "print(accuracy)\n",
    "\n",
    "#Testing the Model on test set\n",
    "\n",
    "predictions=clf.predict(X_test)\n",
    "acccuracy_final = accuracy_score(y_test,predictions)\n",
    "\n",
    "\n",
    "classi_report = classification_report(y_test, predictions)\n",
    "print(classi_report)\n",
    "\n",
    "\n",
    "# F1 Score\n",
    "c = f1_score(y_test, predictions, zero_division=1)\n",
    "print(c)"
   ]
  },
  {
   "cell_type": "code",
   "execution_count": null,
   "id": "269d2e7b",
   "metadata": {},
   "outputs": [],
   "source": [
    "visualizer = ROCAUC(clf, classes=[0, 1])\n",
    "\n",
    "visualizer.fit(X_train, y_train)        # Fit the training data to the visualizer\n",
    "visualizer.score(X_test, y_test)        # Evaluate the model on the test data\n",
    "visualizer.show()                       # Finalize and show the figure"
   ]
  },
  {
   "cell_type": "code",
   "execution_count": null,
   "id": "7fab9eb7",
   "metadata": {},
   "outputs": [],
   "source": [
    "visualizer = ClassPredictionError(\n",
    "    clf, classes=[0,1]\n",
    ")\n",
    "\n",
    "# Fit the training data to the visualizer\n",
    "visualizer.fit(X_train, y_train)\n",
    "\n",
    "# Evaluate the model on the test data\n",
    "visualizer.score(X_test, y_test)\n",
    "\n",
    "# Draw visualization\n",
    "visualizer.show()"
   ]
  },
  {
   "cell_type": "markdown",
   "id": "82a22801",
   "metadata": {},
   "source": [
    "### Decision Trees"
   ]
  },
  {
   "cell_type": "code",
   "execution_count": null,
   "id": "4474ed5c",
   "metadata": {},
   "outputs": [],
   "source": [
    "from sklearn.model_selection import cross_val_score\n",
    "from sklearn.tree import DecisionTreeClassifier\n",
    "clf = DecisionTreeClassifier(random_state=0).fit(X_train, y_train)\n",
    "\n",
    "#Making prediction and checking the test set\n",
    "\n",
    "pred_rfc = clf.predict(X_test)\n",
    "accuracy = accuracy_score(y_test, pred_rfc)\n",
    "print(accuracy)\n",
    "\n",
    "#Testing the Model on test set\n",
    "\n",
    "predictions=clf.predict(X_test)\n",
    "acccuracy_final = accuracy_score(y_test,predictions)\n",
    "\n",
    "\n",
    "classi_report = classification_report(y_test, predictions)\n",
    "print(classi_report)\n",
    "\n",
    "\n",
    "# F1 Score\n",
    "d = f1_score(y_test, predictions, zero_division=1)\n",
    "print(d)"
   ]
  },
  {
   "cell_type": "code",
   "execution_count": null,
   "id": "714c1bc7",
   "metadata": {},
   "outputs": [],
   "source": [
    "visualizer = ROCAUC(clf, classes=[0, 1])\n",
    "\n",
    "visualizer.fit(X_train, y_train)        # Fit the training data to the visualizer\n",
    "visualizer.score(X_test, y_test)        # Evaluate the model on the test data\n",
    "visualizer.show()                       # Finalize and show the figure"
   ]
  },
  {
   "cell_type": "code",
   "execution_count": null,
   "id": "eb339f7e",
   "metadata": {},
   "outputs": [],
   "source": [
    "visualizer = ClassPredictionError(\n",
    "    clf, classes=[0,1]\n",
    ")\n",
    "\n",
    "# Fit the training data to the visualizer\n",
    "visualizer.fit(X_train, y_train)\n",
    "\n",
    "# Evaluate the model on the test data\n",
    "visualizer.score(X_test, y_test)\n",
    "\n",
    "# Draw visualization\n",
    "visualizer.show()"
   ]
  },
  {
   "cell_type": "code",
   "execution_count": null,
   "id": "656688d5",
   "metadata": {},
   "outputs": [],
   "source": [
    "from sklearn.naive_bayes import GaussianNB\n",
    "clf = GaussianNB().fit(X_train, y_train)\n",
    "\n",
    "#Making prediction and checking the test set\n",
    "\n",
    "pred_rfc = clf.predict(X_test)\n",
    "accuracy = accuracy_score(y_test, pred_rfc)\n",
    "print(accuracy)\n",
    "\n",
    "#Testing the Model on test set\n",
    "\n",
    "predictions=clf.predict(X_test)\n",
    "acccuracy_final = accuracy_score(y_test,predictions)\n",
    "\n",
    "\n",
    "classi_report = classification_report(y_test, predictions)\n",
    "print(classi_report)\n",
    "\n",
    "\n",
    "# F1 Score\n",
    "e = f1_score(y_test, predictions, zero_division=1)\n",
    "print(e)"
   ]
  },
  {
   "cell_type": "code",
   "execution_count": null,
   "id": "ca7ec701",
   "metadata": {},
   "outputs": [],
   "source": [
    "visualizer = ROCAUC(clf, classes=[0, 1])\n",
    "\n",
    "visualizer.fit(X_train, y_train)        # Fit the training data to the visualizer\n",
    "visualizer.score(X_test, y_test)        # Evaluate the model on the test data\n",
    "visualizer.show()                       # Finalize and show the figure"
   ]
  },
  {
   "cell_type": "code",
   "execution_count": null,
   "id": "992c90f1",
   "metadata": {},
   "outputs": [],
   "source": [
    "visualizer = ClassPredictionError(\n",
    "    clf, classes=[0,1]\n",
    ")\n",
    "\n",
    "# Fit the training data to the visualizer\n",
    "visualizer.fit(X_train, y_train)\n",
    "\n",
    "# Evaluate the model on the test data\n",
    "visualizer.score(X_test, y_test)\n",
    "\n",
    "# Draw visualization\n",
    "visualizer.show()"
   ]
  },
  {
   "cell_type": "code",
   "execution_count": null,
   "id": "504751ba",
   "metadata": {},
   "outputs": [],
   "source": []
  }
 ],
 "metadata": {
  "kernelspec": {
   "display_name": "Python 3 (ipykernel)",
   "language": "python",
   "name": "python3"
  },
  "language_info": {
   "codemirror_mode": {
    "name": "ipython",
    "version": 3
   },
   "file_extension": ".py",
   "mimetype": "text/x-python",
   "name": "python",
   "nbconvert_exporter": "python",
   "pygments_lexer": "ipython3",
   "version": "3.8.13"
  }
 },
 "nbformat": 4,
 "nbformat_minor": 5
}
