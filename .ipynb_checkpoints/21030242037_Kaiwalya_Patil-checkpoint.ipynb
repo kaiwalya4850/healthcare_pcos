{
 "cells": [
  {
   "cell_type": "markdown",
   "id": "d6ec00c1",
   "metadata": {},
   "source": [
    "# Importing Dataset"
   ]
  },
  {
   "cell_type": "markdown",
   "id": "a25800eb",
   "metadata": {},
   "source": [
    "Importing the dataset as a dataframe via Pandas"
   ]
  },
  {
   "cell_type": "code",
   "execution_count": 136,
   "id": "015c2018",
   "metadata": {},
   "outputs": [],
   "source": [
    "import pandas as pd\n",
    "import numpy as np\n",
    "import warnings\n",
    "warnings.filterwarnings('ignore')\n",
    "df = pd.read_csv(\"loan data_final.csv\")"
   ]
  },
  {
   "cell_type": "markdown",
   "id": "d00da2ca",
   "metadata": {},
   "source": [
    "Since Loan_ID is not releveant, we remove that particular column and then look into how the Dataframe looks like."
   ]
  },
  {
   "cell_type": "code",
   "execution_count": 137,
   "id": "a5ede9b5",
   "metadata": {},
   "outputs": [
    {
     "data": {
      "text/html": [
       "<div>\n",
       "<style scoped>\n",
       "    .dataframe tbody tr th:only-of-type {\n",
       "        vertical-align: middle;\n",
       "    }\n",
       "\n",
       "    .dataframe tbody tr th {\n",
       "        vertical-align: top;\n",
       "    }\n",
       "\n",
       "    .dataframe thead th {\n",
       "        text-align: right;\n",
       "    }\n",
       "</style>\n",
       "<table border=\"1\" class=\"dataframe\">\n",
       "  <thead>\n",
       "    <tr style=\"text-align: right;\">\n",
       "      <th></th>\n",
       "      <th>Gender</th>\n",
       "      <th>Married</th>\n",
       "      <th>Dependents</th>\n",
       "      <th>Education</th>\n",
       "      <th>Self_Employed</th>\n",
       "      <th>ApplicantIncome</th>\n",
       "      <th>CoapplicantIncome</th>\n",
       "      <th>LoanAmount</th>\n",
       "      <th>Loan_Amount_Term</th>\n",
       "      <th>Credit_History</th>\n",
       "      <th>Property_Area</th>\n",
       "      <th>Loan_Status</th>\n",
       "    </tr>\n",
       "  </thead>\n",
       "  <tbody>\n",
       "    <tr>\n",
       "      <th>0</th>\n",
       "      <td>Male</td>\n",
       "      <td>No</td>\n",
       "      <td>0</td>\n",
       "      <td>Graduate</td>\n",
       "      <td>No</td>\n",
       "      <td>5849</td>\n",
       "      <td>0.0</td>\n",
       "      <td>NaN</td>\n",
       "      <td>360.0</td>\n",
       "      <td>1.0</td>\n",
       "      <td>Urban</td>\n",
       "      <td>Y</td>\n",
       "    </tr>\n",
       "    <tr>\n",
       "      <th>1</th>\n",
       "      <td>Male</td>\n",
       "      <td>Yes</td>\n",
       "      <td>1</td>\n",
       "      <td>Graduate</td>\n",
       "      <td>No</td>\n",
       "      <td>4583</td>\n",
       "      <td>1508.0</td>\n",
       "      <td>128.0</td>\n",
       "      <td>360.0</td>\n",
       "      <td>1.0</td>\n",
       "      <td>Rural</td>\n",
       "      <td>N</td>\n",
       "    </tr>\n",
       "    <tr>\n",
       "      <th>2</th>\n",
       "      <td>Male</td>\n",
       "      <td>Yes</td>\n",
       "      <td>0</td>\n",
       "      <td>Graduate</td>\n",
       "      <td>Yes</td>\n",
       "      <td>3000</td>\n",
       "      <td>0.0</td>\n",
       "      <td>66.0</td>\n",
       "      <td>360.0</td>\n",
       "      <td>1.0</td>\n",
       "      <td>Urban</td>\n",
       "      <td>Y</td>\n",
       "    </tr>\n",
       "    <tr>\n",
       "      <th>3</th>\n",
       "      <td>Male</td>\n",
       "      <td>Yes</td>\n",
       "      <td>0</td>\n",
       "      <td>Not Graduate</td>\n",
       "      <td>No</td>\n",
       "      <td>2583</td>\n",
       "      <td>2358.0</td>\n",
       "      <td>120.0</td>\n",
       "      <td>360.0</td>\n",
       "      <td>1.0</td>\n",
       "      <td>Urban</td>\n",
       "      <td>Y</td>\n",
       "    </tr>\n",
       "    <tr>\n",
       "      <th>4</th>\n",
       "      <td>Male</td>\n",
       "      <td>No</td>\n",
       "      <td>0</td>\n",
       "      <td>Graduate</td>\n",
       "      <td>No</td>\n",
       "      <td>6000</td>\n",
       "      <td>0.0</td>\n",
       "      <td>141.0</td>\n",
       "      <td>360.0</td>\n",
       "      <td>1.0</td>\n",
       "      <td>Urban</td>\n",
       "      <td>Y</td>\n",
       "    </tr>\n",
       "  </tbody>\n",
       "</table>\n",
       "</div>"
      ],
      "text/plain": [
       "  Gender Married Dependents     Education Self_Employed  ApplicantIncome  \\\n",
       "0   Male      No          0      Graduate            No             5849   \n",
       "1   Male     Yes          1      Graduate            No             4583   \n",
       "2   Male     Yes          0      Graduate           Yes             3000   \n",
       "3   Male     Yes          0  Not Graduate            No             2583   \n",
       "4   Male      No          0      Graduate            No             6000   \n",
       "\n",
       "   CoapplicantIncome  LoanAmount  Loan_Amount_Term  Credit_History  \\\n",
       "0                0.0         NaN             360.0             1.0   \n",
       "1             1508.0       128.0             360.0             1.0   \n",
       "2                0.0        66.0             360.0             1.0   \n",
       "3             2358.0       120.0             360.0             1.0   \n",
       "4                0.0       141.0             360.0             1.0   \n",
       "\n",
       "  Property_Area Loan_Status  \n",
       "0         Urban           Y  \n",
       "1         Rural           N  \n",
       "2         Urban           Y  \n",
       "3         Urban           Y  \n",
       "4         Urban           Y  "
      ]
     },
     "execution_count": 137,
     "metadata": {},
     "output_type": "execute_result"
    }
   ],
   "source": [
    "df.head()\n",
    "df = df.drop([\"Loan_ID\"],axis=1)\n",
    "df.head()"
   ]
  },
  {
   "cell_type": "markdown",
   "id": "83e14c79",
   "metadata": {},
   "source": [
    "# Null value treatmeant and label encoding\n",
    "\n",
    "Methods used:\n",
    "- Fill values using mean/mode/median(univariate variable)\n",
    "- Fill values using mean/mode/median(Bivariate variables)\n",
    "- Train a model, predict missing values and fill them"
   ]
  },
  {
   "cell_type": "markdown",
   "id": "eb5dd39f",
   "metadata": {},
   "source": [
    "1) Filling values using univariate variable.\n",
    "\n",
    "Since Gemder, Married, Dependents and Self_Employed do not have continuous values, we fill them using 'Mode'"
   ]
  },
  {
   "cell_type": "code",
   "execution_count": 138,
   "id": "df1533fe",
   "metadata": {},
   "outputs": [],
   "source": [
    "df['Gender'] = df['Gender'].fillna(df['Gender'].dropna().mode().values[0] )\n",
    "df['Married'] = df['Married'].fillna(df['Married'].dropna().mode().values[0] )\n",
    "df['Dependents'] = df['Dependents'].fillna(df['Dependents'].dropna().mode().values[0] )\n",
    "df['Self_Employed'] = df['Self_Employed'].fillna(df['Self_Employed'].dropna().mode().values[0] )"
   ]
  },
  {
   "cell_type": "markdown",
   "id": "0da885c0",
   "metadata": {},
   "source": [
    "Now we encode all the labels into numbers, for further processing.\n",
    "\n",
    "One more important thing is under Dependents, we have values like \"3+\", so we convert it to 3."
   ]
  },
  {
   "cell_type": "code",
   "execution_count": 139,
   "id": "cd3cdf09",
   "metadata": {},
   "outputs": [],
   "source": [
    "df = df.fillna('')\n",
    "code_numeric = {'Male': 1, 'Female': 2,\n",
    "'Yes': 1, 'No': 2,\n",
    "'Graduate': 1, 'Not Graduate': 2,\n",
    "'Urban': 3, 'Semiurban': 2,'Rural': 1,\n",
    "'Y': 1, 'N': 0,\n",
    "'3+': 3}\n",
    "\n",
    "\n",
    "df = df.applymap(lambda s: code_numeric.get(s) if s in code_numeric else s)\n",
    "\n",
    "Dependents_ = pd.to_numeric(df.Dependents)\n",
    "\n",
    "df.drop(['Dependents'], axis = 1, inplace = True)\n",
    "\n",
    "df = pd.concat([df, Dependents_], axis = 1)"
   ]
  },
  {
   "cell_type": "markdown",
   "id": "99b0d6a4",
   "metadata": {},
   "source": [
    "After filling values, we proceed with filling Nan values under the columns: LoanAmount, Loan_Amount_Term and Credit_History.\n",
    "\n",
    "We would use Bivariate methods for this."
   ]
  },
  {
   "cell_type": "code",
   "execution_count": 140,
   "id": "204912bb",
   "metadata": {},
   "outputs": [
    {
     "data": {
      "text/html": [
       "<div>\n",
       "<style scoped>\n",
       "    .dataframe tbody tr th:only-of-type {\n",
       "        vertical-align: middle;\n",
       "    }\n",
       "\n",
       "    .dataframe tbody tr th {\n",
       "        vertical-align: top;\n",
       "    }\n",
       "\n",
       "    .dataframe thead th {\n",
       "        text-align: right;\n",
       "    }\n",
       "</style>\n",
       "<table border=\"1\" class=\"dataframe\">\n",
       "  <thead>\n",
       "    <tr style=\"text-align: right;\">\n",
       "      <th></th>\n",
       "      <th>Gender</th>\n",
       "      <th>Married</th>\n",
       "      <th>Education</th>\n",
       "      <th>Self_Employed</th>\n",
       "      <th>ApplicantIncome</th>\n",
       "      <th>CoapplicantIncome</th>\n",
       "      <th>LoanAmount</th>\n",
       "      <th>Loan_Amount_Term</th>\n",
       "      <th>Credit_History</th>\n",
       "      <th>Property_Area</th>\n",
       "      <th>Loan_Status</th>\n",
       "      <th>Dependents</th>\n",
       "    </tr>\n",
       "  </thead>\n",
       "  <tbody>\n",
       "    <tr>\n",
       "      <th>0</th>\n",
       "      <td>1</td>\n",
       "      <td>2</td>\n",
       "      <td>1</td>\n",
       "      <td>2</td>\n",
       "      <td>5849</td>\n",
       "      <td>0.0</td>\n",
       "      <td>NaN</td>\n",
       "      <td>360.0</td>\n",
       "      <td>1.0</td>\n",
       "      <td>3</td>\n",
       "      <td>1</td>\n",
       "      <td>0</td>\n",
       "    </tr>\n",
       "    <tr>\n",
       "      <th>1</th>\n",
       "      <td>1</td>\n",
       "      <td>1</td>\n",
       "      <td>1</td>\n",
       "      <td>2</td>\n",
       "      <td>4583</td>\n",
       "      <td>1508.0</td>\n",
       "      <td>128.0</td>\n",
       "      <td>360.0</td>\n",
       "      <td>1.0</td>\n",
       "      <td>1</td>\n",
       "      <td>0</td>\n",
       "      <td>1</td>\n",
       "    </tr>\n",
       "    <tr>\n",
       "      <th>2</th>\n",
       "      <td>1</td>\n",
       "      <td>1</td>\n",
       "      <td>1</td>\n",
       "      <td>1</td>\n",
       "      <td>3000</td>\n",
       "      <td>0.0</td>\n",
       "      <td>66.0</td>\n",
       "      <td>360.0</td>\n",
       "      <td>1.0</td>\n",
       "      <td>3</td>\n",
       "      <td>1</td>\n",
       "      <td>0</td>\n",
       "    </tr>\n",
       "    <tr>\n",
       "      <th>3</th>\n",
       "      <td>1</td>\n",
       "      <td>1</td>\n",
       "      <td>2</td>\n",
       "      <td>2</td>\n",
       "      <td>2583</td>\n",
       "      <td>2358.0</td>\n",
       "      <td>120.0</td>\n",
       "      <td>360.0</td>\n",
       "      <td>1.0</td>\n",
       "      <td>3</td>\n",
       "      <td>1</td>\n",
       "      <td>0</td>\n",
       "    </tr>\n",
       "    <tr>\n",
       "      <th>4</th>\n",
       "      <td>1</td>\n",
       "      <td>2</td>\n",
       "      <td>1</td>\n",
       "      <td>2</td>\n",
       "      <td>6000</td>\n",
       "      <td>0.0</td>\n",
       "      <td>141.0</td>\n",
       "      <td>360.0</td>\n",
       "      <td>1.0</td>\n",
       "      <td>3</td>\n",
       "      <td>1</td>\n",
       "      <td>0</td>\n",
       "    </tr>\n",
       "  </tbody>\n",
       "</table>\n",
       "</div>"
      ],
      "text/plain": [
       "   Gender  Married  Education  Self_Employed  ApplicantIncome  \\\n",
       "0       1        2          1              2             5849   \n",
       "1       1        1          1              2             4583   \n",
       "2       1        1          1              1             3000   \n",
       "3       1        1          2              2             2583   \n",
       "4       1        2          1              2             6000   \n",
       "\n",
       "   CoapplicantIncome  LoanAmount  Loan_Amount_Term  Credit_History  \\\n",
       "0                0.0         NaN             360.0             1.0   \n",
       "1             1508.0       128.0             360.0             1.0   \n",
       "2                0.0        66.0             360.0             1.0   \n",
       "3             2358.0       120.0             360.0             1.0   \n",
       "4                0.0       141.0             360.0             1.0   \n",
       "\n",
       "   Property_Area  Loan_Status  Dependents  \n",
       "0              3            1           0  \n",
       "1              1            0           1  \n",
       "2              3            1           0  \n",
       "3              3            1           0  \n",
       "4              3            1           0  "
      ]
     },
     "execution_count": 140,
     "metadata": {},
     "output_type": "execute_result"
    }
   ],
   "source": [
    "df = df.replace(r'^\\s*$', np.nan, regex=True)\n",
    "df.head()"
   ]
  },
  {
   "cell_type": "code",
   "execution_count": 141,
   "id": "d5c0f357",
   "metadata": {},
   "outputs": [
    {
     "data": {
      "text/html": [
       "<div>\n",
       "<style scoped>\n",
       "    .dataframe tbody tr th:only-of-type {\n",
       "        vertical-align: middle;\n",
       "    }\n",
       "\n",
       "    .dataframe tbody tr th {\n",
       "        vertical-align: top;\n",
       "    }\n",
       "\n",
       "    .dataframe thead th {\n",
       "        text-align: right;\n",
       "    }\n",
       "</style>\n",
       "<table border=\"1\" class=\"dataframe\">\n",
       "  <thead>\n",
       "    <tr style=\"text-align: right;\">\n",
       "      <th></th>\n",
       "      <th>Gender</th>\n",
       "      <th>Married</th>\n",
       "      <th>Education</th>\n",
       "      <th>Self_Employed</th>\n",
       "      <th>ApplicantIncome</th>\n",
       "      <th>CoapplicantIncome</th>\n",
       "      <th>LoanAmount</th>\n",
       "      <th>Loan_Amount_Term</th>\n",
       "      <th>Credit_History</th>\n",
       "      <th>Property_Area</th>\n",
       "      <th>Loan_Status</th>\n",
       "      <th>Dependents</th>\n",
       "    </tr>\n",
       "  </thead>\n",
       "  <tbody>\n",
       "    <tr>\n",
       "      <th>count</th>\n",
       "      <td>614.000000</td>\n",
       "      <td>614.000000</td>\n",
       "      <td>614.000000</td>\n",
       "      <td>614.000000</td>\n",
       "      <td>614.000000</td>\n",
       "      <td>614.000000</td>\n",
       "      <td>592.000000</td>\n",
       "      <td>600.00000</td>\n",
       "      <td>564.000000</td>\n",
       "      <td>614.000000</td>\n",
       "      <td>614.000000</td>\n",
       "      <td>614.000000</td>\n",
       "    </tr>\n",
       "    <tr>\n",
       "      <th>mean</th>\n",
       "      <td>1.182410</td>\n",
       "      <td>1.346906</td>\n",
       "      <td>1.218241</td>\n",
       "      <td>1.866450</td>\n",
       "      <td>5403.459283</td>\n",
       "      <td>1621.245798</td>\n",
       "      <td>146.412162</td>\n",
       "      <td>342.00000</td>\n",
       "      <td>0.842199</td>\n",
       "      <td>2.037459</td>\n",
       "      <td>0.687296</td>\n",
       "      <td>0.744300</td>\n",
       "    </tr>\n",
       "    <tr>\n",
       "      <th>std</th>\n",
       "      <td>0.386497</td>\n",
       "      <td>0.476373</td>\n",
       "      <td>0.413389</td>\n",
       "      <td>0.340446</td>\n",
       "      <td>6109.041673</td>\n",
       "      <td>2926.248369</td>\n",
       "      <td>85.587325</td>\n",
       "      <td>65.12041</td>\n",
       "      <td>0.364878</td>\n",
       "      <td>0.787482</td>\n",
       "      <td>0.463973</td>\n",
       "      <td>1.009623</td>\n",
       "    </tr>\n",
       "    <tr>\n",
       "      <th>min</th>\n",
       "      <td>1.000000</td>\n",
       "      <td>1.000000</td>\n",
       "      <td>1.000000</td>\n",
       "      <td>1.000000</td>\n",
       "      <td>150.000000</td>\n",
       "      <td>0.000000</td>\n",
       "      <td>9.000000</td>\n",
       "      <td>12.00000</td>\n",
       "      <td>0.000000</td>\n",
       "      <td>1.000000</td>\n",
       "      <td>0.000000</td>\n",
       "      <td>0.000000</td>\n",
       "    </tr>\n",
       "    <tr>\n",
       "      <th>25%</th>\n",
       "      <td>1.000000</td>\n",
       "      <td>1.000000</td>\n",
       "      <td>1.000000</td>\n",
       "      <td>2.000000</td>\n",
       "      <td>2877.500000</td>\n",
       "      <td>0.000000</td>\n",
       "      <td>100.000000</td>\n",
       "      <td>360.00000</td>\n",
       "      <td>1.000000</td>\n",
       "      <td>1.000000</td>\n",
       "      <td>0.000000</td>\n",
       "      <td>0.000000</td>\n",
       "    </tr>\n",
       "    <tr>\n",
       "      <th>50%</th>\n",
       "      <td>1.000000</td>\n",
       "      <td>1.000000</td>\n",
       "      <td>1.000000</td>\n",
       "      <td>2.000000</td>\n",
       "      <td>3812.500000</td>\n",
       "      <td>1188.500000</td>\n",
       "      <td>128.000000</td>\n",
       "      <td>360.00000</td>\n",
       "      <td>1.000000</td>\n",
       "      <td>2.000000</td>\n",
       "      <td>1.000000</td>\n",
       "      <td>0.000000</td>\n",
       "    </tr>\n",
       "    <tr>\n",
       "      <th>75%</th>\n",
       "      <td>1.000000</td>\n",
       "      <td>2.000000</td>\n",
       "      <td>1.000000</td>\n",
       "      <td>2.000000</td>\n",
       "      <td>5795.000000</td>\n",
       "      <td>2297.250000</td>\n",
       "      <td>168.000000</td>\n",
       "      <td>360.00000</td>\n",
       "      <td>1.000000</td>\n",
       "      <td>3.000000</td>\n",
       "      <td>1.000000</td>\n",
       "      <td>1.000000</td>\n",
       "    </tr>\n",
       "    <tr>\n",
       "      <th>max</th>\n",
       "      <td>2.000000</td>\n",
       "      <td>2.000000</td>\n",
       "      <td>2.000000</td>\n",
       "      <td>2.000000</td>\n",
       "      <td>81000.000000</td>\n",
       "      <td>41667.000000</td>\n",
       "      <td>700.000000</td>\n",
       "      <td>480.00000</td>\n",
       "      <td>1.000000</td>\n",
       "      <td>3.000000</td>\n",
       "      <td>1.000000</td>\n",
       "      <td>3.000000</td>\n",
       "    </tr>\n",
       "  </tbody>\n",
       "</table>\n",
       "</div>"
      ],
      "text/plain": [
       "           Gender     Married   Education  Self_Employed  ApplicantIncome  \\\n",
       "count  614.000000  614.000000  614.000000     614.000000       614.000000   \n",
       "mean     1.182410    1.346906    1.218241       1.866450      5403.459283   \n",
       "std      0.386497    0.476373    0.413389       0.340446      6109.041673   \n",
       "min      1.000000    1.000000    1.000000       1.000000       150.000000   \n",
       "25%      1.000000    1.000000    1.000000       2.000000      2877.500000   \n",
       "50%      1.000000    1.000000    1.000000       2.000000      3812.500000   \n",
       "75%      1.000000    2.000000    1.000000       2.000000      5795.000000   \n",
       "max      2.000000    2.000000    2.000000       2.000000     81000.000000   \n",
       "\n",
       "       CoapplicantIncome  LoanAmount  Loan_Amount_Term  Credit_History  \\\n",
       "count         614.000000  592.000000         600.00000      564.000000   \n",
       "mean         1621.245798  146.412162         342.00000        0.842199   \n",
       "std          2926.248369   85.587325          65.12041        0.364878   \n",
       "min             0.000000    9.000000          12.00000        0.000000   \n",
       "25%             0.000000  100.000000         360.00000        1.000000   \n",
       "50%          1188.500000  128.000000         360.00000        1.000000   \n",
       "75%          2297.250000  168.000000         360.00000        1.000000   \n",
       "max         41667.000000  700.000000         480.00000        1.000000   \n",
       "\n",
       "       Property_Area  Loan_Status  Dependents  \n",
       "count     614.000000   614.000000  614.000000  \n",
       "mean        2.037459     0.687296    0.744300  \n",
       "std         0.787482     0.463973    1.009623  \n",
       "min         1.000000     0.000000    0.000000  \n",
       "25%         1.000000     0.000000    0.000000  \n",
       "50%         2.000000     1.000000    0.000000  \n",
       "75%         3.000000     1.000000    1.000000  \n",
       "max         3.000000     1.000000    3.000000  "
      ]
     },
     "execution_count": 141,
     "metadata": {},
     "output_type": "execute_result"
    }
   ],
   "source": [
    "df.describe()"
   ]
  },
  {
   "cell_type": "markdown",
   "id": "004eee4d",
   "metadata": {},
   "source": [
    "#### Plan: Bivariate methods to fill NA\n",
    "\n",
    "- By using the variable \"Loan_status\", seperate the values having Loan_staus = 1 and Loan_status = 0\n",
    "- Now we get the median of LoanAmount when Loan_staus = 1 and Loan_status = 0 \n",
    "- We repeat the same with Loan_Amount_Term, but we use mean to fill the values\n",
    "- This kind of method to fill NA gives a better fit when we train model\n",
    "- Filling Na values using mean of entire column has a good chance\n",
    "\n",
    "Also, one thing that was noticed is, even after removing Outliers, these values did not get affected. So it didnt matter if we removed outliers and then filled the values or vice versa.\n",
    "\n",
    "So let's go according to plan and fill LoanAmount and Loan_Amount_Term\n"
   ]
  },
  {
   "cell_type": "code",
   "execution_count": 142,
   "id": "95bda141",
   "metadata": {},
   "outputs": [
    {
     "name": "stdout",
     "output_type": "stream",
     "text": [
      "126.0\n",
      "129.0\n"
     ]
    }
   ],
   "source": [
    "df_loan_y = df[df['Loan_Status'] == 1]\n",
    "df_loan_n = df[df['Loan_Status'] == 0]\n",
    "\n",
    "# filling with median\n",
    "print(df_loan_y[\"LoanAmount\"].describe()[-3])\n",
    "print(df_loan_n[\"LoanAmount\"].describe()[-3])\n",
    "\n",
    "df[\"LoanAmount\"][(df[\"Loan_Status\"] == 1) & (df[\"LoanAmount\"].isna() == True)] = 126\n",
    "df[\"LoanAmount\"][(df[\"Loan_Status\"] == 0) & (df[\"LoanAmount\"].isna() == True)] = 129"
   ]
  },
  {
   "cell_type": "code",
   "execution_count": 143,
   "id": "a6f32c50",
   "metadata": {},
   "outputs": [
    {
     "name": "stdout",
     "output_type": "stream",
     "text": [
      "341.07246376811594\n",
      "344.06451612903226\n"
     ]
    },
    {
     "data": {
      "text/html": [
       "<div>\n",
       "<style scoped>\n",
       "    .dataframe tbody tr th:only-of-type {\n",
       "        vertical-align: middle;\n",
       "    }\n",
       "\n",
       "    .dataframe tbody tr th {\n",
       "        vertical-align: top;\n",
       "    }\n",
       "\n",
       "    .dataframe thead th {\n",
       "        text-align: right;\n",
       "    }\n",
       "</style>\n",
       "<table border=\"1\" class=\"dataframe\">\n",
       "  <thead>\n",
       "    <tr style=\"text-align: right;\">\n",
       "      <th></th>\n",
       "      <th>Gender</th>\n",
       "      <th>Married</th>\n",
       "      <th>Education</th>\n",
       "      <th>Self_Employed</th>\n",
       "      <th>ApplicantIncome</th>\n",
       "      <th>CoapplicantIncome</th>\n",
       "      <th>LoanAmount</th>\n",
       "      <th>Loan_Amount_Term</th>\n",
       "      <th>Credit_History</th>\n",
       "      <th>Property_Area</th>\n",
       "      <th>Loan_Status</th>\n",
       "      <th>Dependents</th>\n",
       "    </tr>\n",
       "  </thead>\n",
       "  <tbody>\n",
       "    <tr>\n",
       "      <th>count</th>\n",
       "      <td>614.000000</td>\n",
       "      <td>614.000000</td>\n",
       "      <td>614.000000</td>\n",
       "      <td>614.000000</td>\n",
       "      <td>614.000000</td>\n",
       "      <td>614.000000</td>\n",
       "      <td>614.000000</td>\n",
       "      <td>614.000000</td>\n",
       "      <td>564.000000</td>\n",
       "      <td>614.000000</td>\n",
       "      <td>614.000000</td>\n",
       "      <td>614.000000</td>\n",
       "    </tr>\n",
       "    <tr>\n",
       "      <th>mean</th>\n",
       "      <td>1.182410</td>\n",
       "      <td>1.346906</td>\n",
       "      <td>1.218241</td>\n",
       "      <td>1.866450</td>\n",
       "      <td>5403.459283</td>\n",
       "      <td>1621.245798</td>\n",
       "      <td>145.734528</td>\n",
       "      <td>342.006580</td>\n",
       "      <td>0.842199</td>\n",
       "      <td>2.037459</td>\n",
       "      <td>0.687296</td>\n",
       "      <td>0.744300</td>\n",
       "    </tr>\n",
       "    <tr>\n",
       "      <th>std</th>\n",
       "      <td>0.386497</td>\n",
       "      <td>0.476373</td>\n",
       "      <td>0.413389</td>\n",
       "      <td>0.340446</td>\n",
       "      <td>6109.041673</td>\n",
       "      <td>2926.248369</td>\n",
       "      <td>84.111552</td>\n",
       "      <td>64.372739</td>\n",
       "      <td>0.364878</td>\n",
       "      <td>0.787482</td>\n",
       "      <td>0.463973</td>\n",
       "      <td>1.009623</td>\n",
       "    </tr>\n",
       "    <tr>\n",
       "      <th>min</th>\n",
       "      <td>1.000000</td>\n",
       "      <td>1.000000</td>\n",
       "      <td>1.000000</td>\n",
       "      <td>1.000000</td>\n",
       "      <td>150.000000</td>\n",
       "      <td>0.000000</td>\n",
       "      <td>9.000000</td>\n",
       "      <td>12.000000</td>\n",
       "      <td>0.000000</td>\n",
       "      <td>1.000000</td>\n",
       "      <td>0.000000</td>\n",
       "      <td>0.000000</td>\n",
       "    </tr>\n",
       "    <tr>\n",
       "      <th>25%</th>\n",
       "      <td>1.000000</td>\n",
       "      <td>1.000000</td>\n",
       "      <td>1.000000</td>\n",
       "      <td>2.000000</td>\n",
       "      <td>2877.500000</td>\n",
       "      <td>0.000000</td>\n",
       "      <td>100.250000</td>\n",
       "      <td>360.000000</td>\n",
       "      <td>1.000000</td>\n",
       "      <td>1.000000</td>\n",
       "      <td>0.000000</td>\n",
       "      <td>0.000000</td>\n",
       "    </tr>\n",
       "    <tr>\n",
       "      <th>50%</th>\n",
       "      <td>1.000000</td>\n",
       "      <td>1.000000</td>\n",
       "      <td>1.000000</td>\n",
       "      <td>2.000000</td>\n",
       "      <td>3812.500000</td>\n",
       "      <td>1188.500000</td>\n",
       "      <td>128.000000</td>\n",
       "      <td>360.000000</td>\n",
       "      <td>1.000000</td>\n",
       "      <td>2.000000</td>\n",
       "      <td>1.000000</td>\n",
       "      <td>0.000000</td>\n",
       "    </tr>\n",
       "    <tr>\n",
       "      <th>75%</th>\n",
       "      <td>1.000000</td>\n",
       "      <td>2.000000</td>\n",
       "      <td>1.000000</td>\n",
       "      <td>2.000000</td>\n",
       "      <td>5795.000000</td>\n",
       "      <td>2297.250000</td>\n",
       "      <td>164.750000</td>\n",
       "      <td>360.000000</td>\n",
       "      <td>1.000000</td>\n",
       "      <td>3.000000</td>\n",
       "      <td>1.000000</td>\n",
       "      <td>1.000000</td>\n",
       "    </tr>\n",
       "    <tr>\n",
       "      <th>max</th>\n",
       "      <td>2.000000</td>\n",
       "      <td>2.000000</td>\n",
       "      <td>2.000000</td>\n",
       "      <td>2.000000</td>\n",
       "      <td>81000.000000</td>\n",
       "      <td>41667.000000</td>\n",
       "      <td>700.000000</td>\n",
       "      <td>480.000000</td>\n",
       "      <td>1.000000</td>\n",
       "      <td>3.000000</td>\n",
       "      <td>1.000000</td>\n",
       "      <td>3.000000</td>\n",
       "    </tr>\n",
       "  </tbody>\n",
       "</table>\n",
       "</div>"
      ],
      "text/plain": [
       "           Gender     Married   Education  Self_Employed  ApplicantIncome  \\\n",
       "count  614.000000  614.000000  614.000000     614.000000       614.000000   \n",
       "mean     1.182410    1.346906    1.218241       1.866450      5403.459283   \n",
       "std      0.386497    0.476373    0.413389       0.340446      6109.041673   \n",
       "min      1.000000    1.000000    1.000000       1.000000       150.000000   \n",
       "25%      1.000000    1.000000    1.000000       2.000000      2877.500000   \n",
       "50%      1.000000    1.000000    1.000000       2.000000      3812.500000   \n",
       "75%      1.000000    2.000000    1.000000       2.000000      5795.000000   \n",
       "max      2.000000    2.000000    2.000000       2.000000     81000.000000   \n",
       "\n",
       "       CoapplicantIncome  LoanAmount  Loan_Amount_Term  Credit_History  \\\n",
       "count         614.000000  614.000000        614.000000      564.000000   \n",
       "mean         1621.245798  145.734528        342.006580        0.842199   \n",
       "std          2926.248369   84.111552         64.372739        0.364878   \n",
       "min             0.000000    9.000000         12.000000        0.000000   \n",
       "25%             0.000000  100.250000        360.000000        1.000000   \n",
       "50%          1188.500000  128.000000        360.000000        1.000000   \n",
       "75%          2297.250000  164.750000        360.000000        1.000000   \n",
       "max         41667.000000  700.000000        480.000000        1.000000   \n",
       "\n",
       "       Property_Area  Loan_Status  Dependents  \n",
       "count     614.000000   614.000000  614.000000  \n",
       "mean        2.037459     0.687296    0.744300  \n",
       "std         0.787482     0.463973    1.009623  \n",
       "min         1.000000     0.000000    0.000000  \n",
       "25%         1.000000     0.000000    0.000000  \n",
       "50%         2.000000     1.000000    0.000000  \n",
       "75%         3.000000     1.000000    1.000000  \n",
       "max         3.000000     1.000000    3.000000  "
      ]
     },
     "execution_count": 143,
     "metadata": {},
     "output_type": "execute_result"
    }
   ],
   "source": [
    "# filling with mean\n",
    "print(df_loan_y[\"Loan_Amount_Term\"].describe()[1])\n",
    "print(df_loan_n[\"Loan_Amount_Term\"].describe()[1])\n",
    "\n",
    "df[\"Loan_Amount_Term\"][(df[\"Loan_Status\"] == 1) & (df[\"Loan_Amount_Term\"].isna() == True)] = 341.29\n",
    "df[\"Loan_Amount_Term\"][(df[\"Loan_Status\"] == 0) & (df[\"Loan_Amount_Term\"].isna() == True)] = 343.62\n",
    "df.describe()"
   ]
  },
  {
   "cell_type": "markdown",
   "id": "860d6068",
   "metadata": {},
   "source": [
    "As evident in description, we managed to fill Na values in LoanAmount and Loan_Amount_Term."
   ]
  },
  {
   "cell_type": "markdown",
   "id": "5e80aab7",
   "metadata": {},
   "source": [
    "Coming to next part of filling Na values in Credit_History.\n",
    "\n",
    "#### Plan: Build model to fill NA values\n",
    "- Seperate the rows which have NA values and filled values\n",
    "- Create Test Data with the rows which had NA values\n",
    "- Create Train Data with the rows which had all the values correctly filled\n",
    "- Train a model using Logistic Regression\n",
    "- By using the NA value test dataset we created, predict the NA values \n",
    "- Fill the NA values using this prediction\n",
    "\n",
    "Let's start going according to the plan."
   ]
  },
  {
   "cell_type": "code",
   "execution_count": 144,
   "id": "765aa881",
   "metadata": {},
   "outputs": [
    {
     "data": {
      "text/plain": [
       "Gender                0\n",
       "Married               0\n",
       "Education             0\n",
       "Self_Employed         0\n",
       "ApplicantIncome       0\n",
       "CoapplicantIncome     0\n",
       "LoanAmount            0\n",
       "Loan_Amount_Term      0\n",
       "Credit_History       50\n",
       "Property_Area         0\n",
       "Loan_Status           0\n",
       "Dependents            0\n",
       "dtype: int64"
      ]
     },
     "execution_count": 144,
     "metadata": {},
     "output_type": "execute_result"
    }
   ],
   "source": [
    "df.isnull().sum() "
   ]
  },
  {
   "cell_type": "code",
   "execution_count": 145,
   "id": "6006c706",
   "metadata": {},
   "outputs": [
    {
     "name": "stdout",
     "output_type": "stream",
     "text": [
      "(564,) (564, 11)\n",
      "[1.0, 1.0, 1.0, 1.0, 1.0, 1.0, 1.0, 1.0, 1.0, 1.0, 1.0, 1.0, 1.0, 1.0, 1.0, 1.0, 1.0, 1.0, 1.0, 0.0, 1.0, 1.0, 1.0, 1.0, 1.0, 1.0, 1.0, 1.0, 1.0, 1.0, 1.0, 1.0, 1.0, 1.0, 1.0, 1.0, 1.0, 1.0, 1.0, 1.0, 1.0, 1.0, 1.0, 1.0, 1.0, 1.0, 1.0, 1.0, 1.0, 1.0]\n"
     ]
    }
   ],
   "source": [
    "test = df[df[\"Credit_History\"].isna() == True]\n",
    "test = test.drop([\"Credit_History\"],axis = 1)\n",
    "\n",
    "\n",
    "x = df[df[\"Credit_History\"].isna() == False]\n",
    "x = x.drop([\"Credit_History\"],axis = 1)\n",
    "\n",
    "y = df[\"Credit_History\"][df[\"Credit_History\"].isna() == False]\n",
    "print(y.shape,x.shape)\n",
    "\n",
    "from sklearn.datasets import load_iris\n",
    "from sklearn.linear_model import LogisticRegression\n",
    "#X, y = load_iris(return_X_y=True)\n",
    "clf = LogisticRegression(random_state=0).fit(x, y)\n",
    "put = list(clf.predict(test))\n",
    "print(put)"
   ]
  },
  {
   "cell_type": "markdown",
   "id": "e37ef17d",
   "metadata": {},
   "source": [
    "It turns out that our prediction is giving all the values as 1.\n",
    "\n",
    "The Accuracy of this predictions was found to be above 90%, so we fill the NA values using predictions and start with outlier treatment\n",
    "\n"
   ]
  },
  {
   "cell_type": "code",
   "execution_count": 146,
   "id": "5e548392",
   "metadata": {},
   "outputs": [],
   "source": [
    "df[\"Credit_History\"][(df[\"Credit_History\"].isna() == True)] = 1"
   ]
  },
  {
   "cell_type": "code",
   "execution_count": 147,
   "id": "583da711",
   "metadata": {},
   "outputs": [
    {
     "data": {
      "text/plain": [
       "Gender               0\n",
       "Married              0\n",
       "Education            0\n",
       "Self_Employed        0\n",
       "ApplicantIncome      0\n",
       "CoapplicantIncome    0\n",
       "LoanAmount           0\n",
       "Loan_Amount_Term     0\n",
       "Credit_History       0\n",
       "Property_Area        0\n",
       "Loan_Status          0\n",
       "Dependents           0\n",
       "dtype: int64"
      ]
     },
     "execution_count": 147,
     "metadata": {},
     "output_type": "execute_result"
    }
   ],
   "source": [
    "df.isnull().sum()"
   ]
  },
  {
   "cell_type": "markdown",
   "id": "e6bcde7a",
   "metadata": {},
   "source": [
    "# Outlier treatment and visualisation\n",
    "\n",
    "First we will plot the graphs, look into the distribution and then use IQR methods to replace the Outliers by Median values of column\n"
   ]
  },
  {
   "cell_type": "code",
   "execution_count": 148,
   "id": "80283042",
   "metadata": {},
   "outputs": [
    {
     "data": {
      "text/plain": [
       "[Text(0, 0.5, 'Frequency'), Text(0.5, 0, 'Normal Distribution')]"
      ]
     },
     "execution_count": 148,
     "metadata": {},
     "output_type": "execute_result"
    },
    {
     "data": {
      "image/png": "[encoded data removed]",
      "text/plain": [
       "<Figure size 432x288 with 1 Axes>"
      ]
     },
     "metadata": {},
     "output_type": "display_data"
    }
   ],
   "source": [
    "import seaborn as sns\n",
    "ax = sns.histplot(df[\"ApplicantIncome\"],kde= True)\n",
    "ax.set(xlabel='Normal Distribution', ylabel='Frequency')"
   ]
  },
  {
   "cell_type": "code",
   "execution_count": 149,
   "id": "bccbd400",
   "metadata": {},
   "outputs": [
    {
     "name": "stdout",
     "output_type": "stream",
     "text": [
      "2877.5 5795.0\n",
      "2917.5\n",
      "4376.25\n",
      "-40.0 8712.5\n"
     ]
    },
    {
     "data": {
      "text/plain": [
       "[Text(0, 0.5, 'Frequency'), Text(0.5, 0, 'Normal Distribution')]"
      ]
     },
     "execution_count": 149,
     "metadata": {},
     "output_type": "execute_result"
    },
    {
     "data": {
      "image/png": "[encoded data removed]",
      "text/plain": [
       "<Figure size 432x288 with 1 Axes>"
      ]
     },
     "metadata": {},
     "output_type": "display_data"
    }
   ],
   "source": [
    "Q1 = np.percentile(df[\"ApplicantIncome\"],25)\n",
    "Q3 = np.percentile(df[\"ApplicantIncome\"],75)\n",
    "IQR = Q3 - Q1\n",
    "iqrx = Q3 - Q1\n",
    "print(Q1,Q3)\n",
    "print(IQR)\n",
    "print(1.5*IQR)\n",
    "\n",
    "# dont need anything out of this range\n",
    "r1 = Q1- iqrx\n",
    "r2 = Q3 + iqrx\n",
    "print(r1,r2)\n",
    "\n",
    "df[\"ApplicantIncome\"].values[df[\"ApplicantIncome\"] > r2] = 3500\n",
    "\n",
    "ax = sns.histplot(df[\"ApplicantIncome\"],kde= True)\n",
    "ax.set(xlabel='Normal Distribution', ylabel='Frequency')"
   ]
  },
  {
   "cell_type": "code",
   "execution_count": 150,
   "id": "75ab9cd2",
   "metadata": {},
   "outputs": [
    {
     "data": {
      "text/plain": [
       "[Text(0, 0.5, 'Frequency'), Text(0.5, 0, 'Normal Distribution')]"
      ]
     },
     "execution_count": 150,
     "metadata": {},
     "output_type": "execute_result"
    },
    {
     "data": {
      "image/png": "[encoded data removed]",
      "text/plain": [
       "<Figure size 432x288 with 1 Axes>"
      ]
     },
     "metadata": {},
     "output_type": "display_data"
    }
   ],
   "source": [
    "ax = sns.histplot(df[\"CoapplicantIncome\"],kde= True)\n",
    "ax.set(xlabel='Normal Distribution', ylabel='Frequency')"
   ]
  },
  {
   "cell_type": "code",
   "execution_count": 151,
   "id": "25037042",
   "metadata": {},
   "outputs": [
    {
     "name": "stdout",
     "output_type": "stream",
     "text": [
      "0.0 2297.25\n",
      "2297.25\n",
      "3445.875\n",
      "-2297.25 4594.5\n"
     ]
    },
    {
     "data": {
      "text/plain": [
       "[Text(0, 0.5, 'Frequency'), Text(0.5, 0, 'Normal Distribution')]"
      ]
     },
     "execution_count": 151,
     "metadata": {},
     "output_type": "execute_result"
    },
    {
     "data": {
      "image/png": "[encoded data removed]",
      "text/plain": [
       "<Figure size 432x288 with 1 Axes>"
      ]
     },
     "metadata": {},
     "output_type": "display_data"
    }
   ],
   "source": [
    "Q1 = np.percentile(df[\"CoapplicantIncome\"],25)\n",
    "Q3 = np.percentile(df[\"CoapplicantIncome\"],75)\n",
    "IQR = Q3 - Q1\n",
    "iqrx = Q3 - Q1\n",
    "print(Q1,Q3)\n",
    "print(IQR)\n",
    "print(1.5*IQR)\n",
    "\n",
    "# dont need anything out of this range\n",
    "r1 = Q1- iqrx\n",
    "r2 = Q3 + iqrx\n",
    "print(r1,r2)\n",
    "\n",
    "df[\"CoapplicantIncome\"].values[df[\"CoapplicantIncome\"] > r2] = 1200\n",
    "\n",
    "ax = sns.histplot(df[\"CoapplicantIncome\"],kde= True)\n",
    "ax.set(xlabel='Normal Distribution', ylabel='Frequency')"
   ]
  },
  {
   "cell_type": "code",
   "execution_count": 152,
   "id": "63d92a5e",
   "metadata": {},
   "outputs": [
    {
     "data": {
      "text/plain": [
       "[Text(0, 0.5, 'Frequency'), Text(0.5, 0, 'Normal Distribution')]"
      ]
     },
     "execution_count": 152,
     "metadata": {},
     "output_type": "execute_result"
    },
    {
     "data": {
      "image/png": "[encoded data removed]",
      "text/plain": [
       "<Figure size 432x288 with 1 Axes>"
      ]
     },
     "metadata": {},
     "output_type": "display_data"
    }
   ],
   "source": [
    "ax = sns.histplot(df[\"LoanAmount\"],kde= True)\n",
    "ax.set(xlabel='Normal Distribution', ylabel='Frequency')"
   ]
  },
  {
   "cell_type": "code",
   "execution_count": 153,
   "id": "68e902d1",
   "metadata": {},
   "outputs": [
    {
     "name": "stdout",
     "output_type": "stream",
     "text": [
      "100.25 164.75\n",
      "64.5\n",
      "96.75\n",
      "35.75 229.25\n"
     ]
    },
    {
     "data": {
      "text/plain": [
       "[Text(0, 0.5, 'Frequency'), Text(0.5, 0, 'Normal Distribution')]"
      ]
     },
     "execution_count": 153,
     "metadata": {},
     "output_type": "execute_result"
    },
    {
     "data": {
      "image/png": "[encoded data removed]",
      "text/plain": [
       "<Figure size 432x288 with 1 Axes>"
      ]
     },
     "metadata": {},
     "output_type": "display_data"
    }
   ],
   "source": [
    "Q1 = np.percentile(df[\"LoanAmount\"],25)\n",
    "Q3 = np.percentile(df[\"LoanAmount\"],75)\n",
    "IQR = Q3 - Q1\n",
    "iqrx = Q3 - Q1\n",
    "print(Q1,Q3)\n",
    "print(IQR)\n",
    "print(1.5*IQR)\n",
    "\n",
    "# dont need anything out of this range\n",
    "r1 = Q1- iqrx\n",
    "r2 = Q3 + iqrx\n",
    "print(r1,r2)\n",
    "\n",
    "df[\"LoanAmount\"].values[df[\"LoanAmount\"] > r2] = 128\n",
    "\n",
    "ax = sns.histplot(df[\"LoanAmount\"],kde= True)\n",
    "ax.set(xlabel='Normal Distribution', ylabel='Frequency')"
   ]
  },
  {
   "cell_type": "markdown",
   "id": "51007ae9",
   "metadata": {},
   "source": [
    "These 3 columns were having some kind of skewed distributions, rest all the columns had categorical values, so no methods were used on them.\n",
    "\n",
    "Also, some of the frequencies are having higher values but since we will be using StandardScaler in coming cells, we do not need to worry about it."
   ]
  },
  {
   "cell_type": "markdown",
   "id": "09457c50",
   "metadata": {},
   "source": [
    "# Feature selection \n",
    "\n",
    "Since 11 features were given, some of them did note significantly contibute into building the model and no change in accuracy was observed. So on basis of Chi tests, we keep only the highest K value functions.\n",
    "\n",
    "The k = 5  in code below, shows we will select only 5 features. These will be stored in X_new.\n",
    "\n",
    "Playing around this code, I tried multiple possibilities like selecting as more as 7,8,9 or as less as 2,3 features but there was a significant drop in accuracy at times, so choosing 5 features was the the best and most stable choice."
   ]
  },
  {
   "cell_type": "code",
   "execution_count": 154,
   "id": "3407f1de",
   "metadata": {},
   "outputs": [
    {
     "data": {
      "text/plain": [
       "array([[5.849e+03, 0.000e+00, 1.260e+02, 3.600e+02, 1.000e+00],\n",
       "       [4.583e+03, 1.508e+03, 1.280e+02, 3.600e+02, 1.000e+00],\n",
       "       [3.000e+03, 0.000e+00, 6.600e+01, 3.600e+02, 1.000e+00],\n",
       "       [2.583e+03, 2.358e+03, 1.200e+02, 3.600e+02, 1.000e+00],\n",
       "       [6.000e+03, 0.000e+00, 1.410e+02, 3.600e+02, 1.000e+00]])"
      ]
     },
     "execution_count": 154,
     "metadata": {},
     "output_type": "execute_result"
    }
   ],
   "source": [
    "y = df['Loan_Status']\n",
    "X = df.drop('Loan_Status', axis = 1)\n",
    "from sklearn.datasets import load_iris\n",
    "from sklearn.feature_selection import SelectKBest\n",
    "from sklearn.feature_selection import chi2\n",
    "#from sklearn.feature_selection import get_feature_names_out\n",
    "\n",
    "X_new = SelectKBest(chi2, k=5).fit_transform(X, y)\n",
    "X_new[0:5]"
   ]
  },
  {
   "cell_type": "markdown",
   "id": "a56f079e",
   "metadata": {},
   "source": [
    "# Dealing with Imbalanced data \n",
    "\n",
    "Since we have a very imbalanced dataset, we need to apply some methods to bring it on same page. \n",
    "\n",
    "For the same, sklearn provides a functionality to balance the dataset during the model training. \n",
    "\n",
    "There is a parameter called \"class_weight='balanced'\" which can be set to balanced, this balances the entire dataset. We can even manually assign weights to balance dataset by 'class_Weight = {0:50,1:50}', which means class 0 has balance of 50% and class 1 has balance of 50%.\n",
    "\n",
    "###### This has been added when training the model. (class_weight = 'balanced' or class_weight = {0:50,1:50})\n"
   ]
  },
  {
   "cell_type": "markdown",
   "id": "fd47f133",
   "metadata": {},
   "source": [
    "# Normalization and scaling\n",
    "\n",
    "As we saw, that after feature scaling, we have only 5 features which vary on their scale by a factor of 10 and 100, we will bring all the data in same scale.\n",
    "\n",
    "For this there is a parameter of defining pipelines by sklearn, where I have used \"StandardScaler()\". This did not boost the accuracy by a lot, but increased it by some percentage.\n",
    "\n",
    "###### This has been added while training model as 'make_pipeline(StandardScaler())'"
   ]
  },
  {
   "cell_type": "markdown",
   "id": "ce32183e",
   "metadata": {},
   "source": [
    "# Model building\n",
    "\n",
    "We will try multiple models on the data and come to a conclusion."
   ]
  },
  {
   "cell_type": "code",
   "execution_count": 155,
   "id": "fa6abf10",
   "metadata": {},
   "outputs": [
    {
     "name": "stdout",
     "output_type": "stream",
     "text": [
      "Model: Logistic regression with scaling\n",
      "Accuracy 0.7886178861788617\n",
      "F1 score 0.8586956521739131\n",
      "Confusion matrix:\n",
      "[[18 25]\n",
      " [ 1 79]]\n"
     ]
    }
   ],
   "source": [
    "from sklearn.model_selection import train_test_split\n",
    "from sklearn.metrics import f1_score\n",
    "from sklearn.model_selection import GridSearchCV\n",
    "from sklearn.tree import DecisionTreeClassifier\n",
    "from sklearn.linear_model import LogisticRegression\n",
    "from sklearn.ensemble import RandomForestClassifier\n",
    "from sklearn.datasets import make_classification\n",
    "from sklearn.pipeline import make_pipeline\n",
    "from sklearn.preprocessing import StandardScaler\n",
    "from sklearn.metrics import confusion_matrix\n",
    "\n",
    "\n",
    "\n",
    "#w = {0:55, 1:45}\n",
    "X_train, X_test, y_train, y_test = train_test_split(X_new, y, test_size=0.20, random_state=42)\n",
    "\n",
    "\n",
    "# used standard scaler and class weights FOR IMALANCED DATASET AND NORMALIZATION PURPOSES\n",
    "pipe = make_pipeline(StandardScaler(), LogisticRegression(class_weight='balanced'))    # class_Weight: FOR BALANCING DATASET\n",
    "pipe.fit(X_train, y_train)\n",
    "\n",
    "ypred = pipe.predict(X_test)\n",
    "\n",
    "pipe.score(X_test, y_test)\n",
    "\n",
    "print(\"Model: Logistic regression with scaling\")\n",
    "print(\"Accuracy\",pipe.score(X_test, y_test))\n",
    "print(\"F1 score\",f1_score(y_test, ypred))\n",
    "\n",
    "print(\"Confusion matrix:\")\n",
    "print(confusion_matrix(y_test, ypred))"
   ]
  },
  {
   "cell_type": "code",
   "execution_count": 156,
   "id": "c90c3e9f",
   "metadata": {},
   "outputs": [
    {
     "name": "stdout",
     "output_type": "stream",
     "text": [
      "Model: Logistic regression without scaling\n",
      "Accuracy 0.8292682926829268\n",
      "F1 score 0.8923076923076922\n",
      "Confusion matrix:\n",
      "[[15 18]\n",
      " [ 3 87]]\n",
      "Precision is: 0.8285714285714286\n",
      "Recall is: : 0.9666666666666667\n"
     ]
    }
   ],
   "source": [
    "w = {0:50, 1:50}\n",
    "\n",
    "X_train, X_test, y_train, y_test = train_test_split(X_new, y, test_size=0.20, random_state=0)\n",
    "\n",
    "model = LogisticRegression(class_weight='balanced')\n",
    "model.fit(X_train, y_train)\n",
    "#print(type(X_test))\n",
    "ypred = model.predict(X_test)\n",
    "\n",
    "#print(ypred)\n",
    "print(\"Model: Logistic regression without scaling\")\n",
    "print(\"Accuracy\",model.score(X_test, y_test))\n",
    "print(\"F1 score\",f1_score(y_test, ypred))\n",
    "print(\"Confusion matrix:\")\n",
    "print(confusion_matrix(y_test, ypred))\n",
    "\n",
    "\n",
    "tn, fp, fn, tp = confusion_matrix(y_test, ypred).ravel()\n",
    "print(\"Precision is:\", tp/(tp+fp)) \n",
    "\n",
    "print(\"Recall is: :\",tp/(tp+fn)) "
   ]
  },
  {
   "cell_type": "code",
   "execution_count": 157,
   "id": "6a833784",
   "metadata": {},
   "outputs": [
    {
     "name": "stdout",
     "output_type": "stream",
     "text": [
      "Model: Decision trees\n",
      "Confusion matrix:\n",
      "[[17 16]\n",
      " [19 71]]\n",
      "F1 score 0.8022598870056497\n"
     ]
    }
   ],
   "source": [
    "tree = DecisionTreeClassifier(class_weight='balanced')\n",
    "tree.fit(X_train, y_train)\n",
    "\n",
    "ypred_tree = tree.predict(X_test)\n",
    "\n",
    "confusion_matrix(y_test, ypred)\n",
    "print(\"Model: Decision trees\")\n",
    "\n",
    "print(\"Confusion matrix:\")\n",
    "print(confusion_matrix(y_test, ypred_tree))\n",
    "\n",
    "print(\"F1 score\",f1_score(y_test, ypred_tree))"
   ]
  },
  {
   "cell_type": "code",
   "execution_count": 158,
   "id": "f1076d8e",
   "metadata": {},
   "outputs": [
    {
     "name": "stdout",
     "output_type": "stream",
     "text": [
      "Model: Random forest\n",
      "Confusion matrix:\n",
      "[[14 19]\n",
      " [ 2 88]]\n",
      "F1 score 0.8934010152284264\n"
     ]
    }
   ],
   "source": [
    "\n",
    "forest = RandomForestClassifier(max_depth = 2, class_weight='balanced')\n",
    "forest.fit(X_train, y_train)\n",
    "ypred_forest = forest.predict(X_test)\n",
    "\n",
    "print(\"Model: Random forest\")\n",
    "print(\"Confusion matrix:\")\n",
    "print(confusion_matrix(y_test, ypred_forest))\n",
    "\n",
    "print(\"F1 score\",f1_score(y_test, ypred_forest))"
   ]
  },
  {
   "cell_type": "code",
   "execution_count": 159,
   "id": "bf86c985",
   "metadata": {},
   "outputs": [
    {
     "name": "stdout",
     "output_type": "stream",
     "text": [
      "Model: AdaBoost Classifier\n",
      "Confusion matrix:\n"
     ]
    },
    {
     "data": {
      "text/plain": [
       "array([[15, 18],\n",
       "       [13, 77]], dtype=int64)"
      ]
     },
     "execution_count": 159,
     "metadata": {},
     "output_type": "execute_result"
    }
   ],
   "source": [
    "from sklearn.ensemble import AdaBoostClassifier\n",
    "from sklearn.datasets import make_classification\n",
    "\n",
    "clf = AdaBoostClassifier(n_estimators=2000, random_state=0)\n",
    "clf.fit(X_train, y_train)\n",
    "\n",
    "ada = clf.predict(X_test)\n",
    "\n",
    "print(\"Model: AdaBoost Classifier\")\n",
    "print(\"Confusion matrix:\")\n",
    "confusion_matrix(y_test, ada)"
   ]
  },
  {
   "cell_type": "markdown",
   "id": "94712ba9",
   "metadata": {},
   "source": [
    "# Evaluation and Selection\n",
    "\n",
    "Hence we have build 5 models\n",
    "- Logistic regression with scaling\n",
    "- Logistic regression without scaling\n",
    "- Decision trees\n",
    "- Random Forest\n",
    "- AdaBoost\n",
    "\n",
    "All the models gave different confusion matrix. Now let's go ahead and select the best model and justify why we did so.\n"
   ]
  },
  {
   "cell_type": "markdown",
   "id": "b9d88974",
   "metadata": {},
   "source": [
    "###### Logistic regression without scaling would be the best model\n",
    "###### How and why?\n",
    " \n",
    "1) It has a higher F1 score as compared to other models. This says more about precision and recall. \n",
    "\n",
    "2) We get a precision of 82.8% which says the percentage of values which were actually positive, for all the other models this was not good. \n",
    "\n",
    "3) Then, recall(True positive rate) is 96.67%. These precision and recall rates are also good because they cares more about the \"positive class\" and we need to predict how many people can be approved with loan status.\n",
    "\n",
    "4) Accuracy of RandomForest is better, but if we look into the confusion matrix, it doesn't provide values as good as that of Logistic regression. \n",
    "\n",
    "5) Random Forest would have been a good choice but it has huge number of in last quadrant, make says model gets a little overfitted on one class, this is even after balancing the data.\n",
    "\n",
    "6) AdaBoost and decision trees had lot of FP and FN values, and that is evident from their confusion matrix. This provides enough justification to remove them, as compared to Logistic regression."
   ]
  }
 ],
 "metadata": {
  "kernelspec": {
   "display_name": "Python 3 (ipykernel)",
   "language": "python",
   "name": "python3"
  },
  "language_info": {
   "codemirror_mode": {
    "name": "ipython",
    "version": 3
   },
   "file_extension": ".py",
   "mimetype": "text/x-python",
   "name": "python",
   "nbconvert_exporter": "python",
   "pygments_lexer": "ipython3",
   "version": "3.8.13"
  }
 },
 "nbformat": 4,
 "nbformat_minor": 5
}
